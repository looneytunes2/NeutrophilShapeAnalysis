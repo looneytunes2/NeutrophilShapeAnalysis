{
 "cells": [
  {
   "cell_type": "code",
   "execution_count": 53,
   "id": "d1efcd5f",
   "metadata": {},
   "outputs": [],
   "source": [
    "# import numpy as np\n",
    "import numpy as np\n",
    "import pandas as pd\n",
    "import matplotlib as mpl\n",
    "import matplotlib.pyplot as plt\n",
    "from mpl_toolkits.mplot3d import Axes3D\n",
    "from numpy import dot, multiply, diag, power\n",
    "from numpy import pi, exp, sin, cos, cosh, tanh, real, imag\n",
    "from numpy.linalg import inv, eig, pinv, eigh\n",
    "from scipy.linalg import svd, svdvals\n",
    "from scipy.integrate import odeint, ode, complex_ode\n",
    "from warnings import warn\n",
    "\n",
    "\n",
    "def nullspace(A, atol=1e-13, rtol=0):\n",
    "    # from http://scipy-cookbook.readthedocs.io/items/RankNullspace.html\n",
    "    A = np.atleast_2d(A)\n",
    "    u, s, vh = svd(A)\n",
    "    tol = max(atol, rtol * s[0])\n",
    "    nnz = (s >= tol).sum()\n",
    "    ns = vh[nnz:].conj().T\n",
    "    return ns\n",
    "\n",
    "def check_linear_consistency(X, Y, show_warning=True):\n",
    "    # tests linear consistency of two matrices (i.e., whenever Xc=0, then Yc=0)\n",
    "    A = dot(Y, nullspace(X))\n",
    "    total = A.shape[1]\n",
    "    z = np.zeros([total, 1])\n",
    "    fails = 0\n",
    "    for i in range(total):\n",
    "        if not np.allclose(z, A[:,i]):\n",
    "            fails += 1\n",
    "    if fails > 0 and show_warning:\n",
    "        warn('linear consistency check failed {} out of {}'.format(fails, total))\n",
    "    return fails, total\n",
    "\n",
    "# def dmd(X1, X2, dt, truncate=None):\n",
    "#     U,S,V = svd(X1, False) # SVD of input matrix\n",
    "#     r = len(S) if truncate is None else truncate # rank truncation\n",
    "#     U_r = U[:,:r]\n",
    "#     S_r = diag(S)[:r,:r]\n",
    "#     V_r = V.conj().T[:,:r]\n",
    "#     Atil = dot(dot(dot(U_r.conj().T, X2), V_r), inv(S_r)) # build A tilde\n",
    "#     mu,W_r = eig(Atil)\n",
    "#     Phi = dot(dot(dot(X2, V_r), inv(S_r)), W_r) # build DMD modes\n",
    "    \n",
    "#     lmda = diag(mu) #discrete-time eigenvalues\n",
    "#     omega = np.log(lmda)/dt\n",
    "    \n",
    "#     #compute DMD mode apmlitudes b\n",
    "#     x1 = X1(:,1)\n",
    "#     b = np.linalg.lstsq(Phi,z1)\n",
    "#     #DMD reconstruction\n",
    "#     mm1 = len(X1) #mm1 = m - 1\n",
    "#     time_dynamics = np.zeros(r,mm1)\n",
    "#     t = np.arange(mm1)\n",
    "#     for i in range(mm1):\n",
    "#         time_dynamics[:,i] = (b)\n",
    "#     return Phi,omega,lmda,b,Xdmd\n",
    "\n",
    "def check_dmd_result(X, Y, mu, Phi, show_warning=True):\n",
    "    b = np.allclose(Y, dot(dot(dot(Phi, diag(mu)), pinv(Phi)), X))\n",
    "    if not b and show_warning:\n",
    "        warn('dmd result does not satisfy Y=AX')"
   ]
  },
  {
   "cell_type": "code",
   "execution_count": 100,
   "id": "f1a6fa9f",
   "metadata": {},
   "outputs": [
    {
     "data": {
      "text/plain": [
       "(242, 121)"
      ]
     },
     "execution_count": 100,
     "metadata": {},
     "output_type": "execute_result"
    }
   ],
   "source": [
    "X1.shape"
   ]
  },
  {
   "cell_type": "code",
   "execution_count": 109,
   "id": "13eb5f6e",
   "metadata": {},
   "outputs": [
    {
     "name": "stderr",
     "output_type": "stream",
     "text": [
      "C:\\Users\\Aaron\\anaconda3\\envs\\abhishape\\lib\\site-packages\\ipykernel_launcher.py:22: FutureWarning: `rcond` parameter will change to the default of machine precision times ``max(M, N)`` where M and N are the input matrix dimensions.\n",
      "To use the future default and silence this warning we advise to pass `rcond=None`, to keep using the old, explicitly pass `rcond=-1`.\n",
      "C:\\Users\\Aaron\\anaconda3\\envs\\abhishape\\lib\\site-packages\\ipykernel_launcher.py:28: ComplexWarning: Casting complex values to real discards the imaginary part\n"
     ]
    }
   ],
   "source": [
    "cells = pd.read_csv('C:/Users/Aaron/Desktop/newNeutrophil_SHCoeffs.csv', index_col = 0)\n",
    "firstcell = cells[cells.CellID == cells.CellID.unique()[0]].sort_values('frame').drop(columns=['CellID','frame'])\n",
    "\n",
    "dt = 10\n",
    "\n",
    "X1 = firstcell.T.iloc[:,:-1].to_numpy()\n",
    "X2 = firstcell.T.iloc[:,1:].to_numpy()\n",
    "U,S,V = svd(X1, False) # SVD of input matrix\n",
    "r = len(S)\n",
    "U_r = U[:,:r]\n",
    "S_r = diag(S)[:r,:r]\n",
    "V_r = V.conj().T[:,:r]\n",
    "Atil = dot(dot(dot(U_r.conj().T, X2), V_r), inv(S_r)) # build A tilde\n",
    "mu,W_r = eig(Atil)\n",
    "Phi = dot(dot(dot(X2, V_r), inv(S_r)), W_r) # build DMD modes\n",
    "\n",
    "lmda = mu.copy() #discrete-time eigenvalues\n",
    "omega = np.log(lmda)/dt\n",
    "\n",
    "#compute DMD mode apmlitudes b\n",
    "x1 = X1[:,0]\n",
    "b, resid, rank, s = np.linalg.lstsq(Phi,x1)\n",
    "#DMD reconstruction\n",
    "mm1 = X1.shape[1] #mm1 = m - 1\n",
    "time_dynamics = np.zeros((r,mm1))\n",
    "t = np.arange(mm1)*dt\n",
    "for i in range(mm1):\n",
    "    time_dynamics[:,i] = (b*np.exp(omega*t[i]))\n",
    "Xdmd = np.matmul(Phi,time_dynamics)"
   ]
  },
  {
   "cell_type": "code",
   "execution_count": 147,
   "id": "6b6b0934",
   "metadata": {
    "scrolled": true
   },
   "outputs": [
    {
     "data": {
      "text/plain": [
       "array([[15.3466248 -2.58077604e-14j, 15.92854719-2.34252945e-14j,\n",
       "        17.23395606+1.66372153e-15j, ..., 15.39997482-1.16292508e-03j,\n",
       "        15.10900084-4.36069313e-03j, 14.51755255-4.24040979e-03j],\n",
       "       [ 0.        +0.00000000e+00j,  0.        +0.00000000e+00j,\n",
       "         0.        +0.00000000e+00j, ...,  0.        +0.00000000e+00j,\n",
       "         0.        +0.00000000e+00j,  0.        +0.00000000e+00j],\n",
       "       [ 0.        +0.00000000e+00j,  0.        +0.00000000e+00j,\n",
       "         0.        +0.00000000e+00j, ...,  0.        +0.00000000e+00j,\n",
       "         0.        +0.00000000e+00j,  0.        +0.00000000e+00j],\n",
       "       ...,\n",
       "       [-0.16892815-4.87729572e-15j,  0.29293526+5.94160416e-15j,\n",
       "         0.10538881+6.20820254e-15j, ..., -0.2526474 -2.22859724e-03j,\n",
       "         0.05094328-8.35657018e-03j,  0.05722414-8.12608918e-03j],\n",
       "       [-0.49698993+4.24875981e-16j, -0.5351602 +2.86765138e-15j,\n",
       "         0.24759245-5.42642303e-15j, ...,  0.15649845-1.30373133e-03j,\n",
       "         0.25614886-4.88858635e-03j,  0.06324344-4.75375752e-03j],\n",
       "       [-0.75192193-2.08773826e-15j, -0.49398545+5.53795991e-15j,\n",
       "         0.33543126+1.04744101e-14j, ...,  0.17007688-2.52391712e-03j,\n",
       "         0.27097342-9.46390174e-03j,  0.5083731 -9.20288436e-03j]])"
      ]
     },
     "execution_count": 147,
     "metadata": {},
     "output_type": "execute_result"
    }
   ],
   "source": [
    "Xdmd"
   ]
  },
  {
   "cell_type": "code",
   "execution_count": 159,
   "id": "0388353c",
   "metadata": {},
   "outputs": [],
   "source": [
    "from CustomFunctions import shtools_mod\n",
    "lmax = 10\n",
    "mesh, _ = shtools_mod.get_reconstruction_from_coeffs(real(Phi[:,0]).reshape(2,lmax+1,lmax+1))\n",
    "shtools_mod.save_polydata(mesh, 'C:/Users/Aaron/Desktop/Phi1.vtk')"
   ]
  },
  {
   "cell_type": "code",
   "execution_count": null,
   "id": "72af2db9",
   "metadata": {},
   "outputs": [],
   "source": []
  }
 ],
 "metadata": {
  "kernelspec": {
   "display_name": "Python [conda env:abhishape] *",
   "language": "python",
   "name": "conda-env-abhishape-py"
  },
  "language_info": {
   "codemirror_mode": {
    "name": "ipython",
    "version": 3
   },
   "file_extension": ".py",
   "mimetype": "text/x-python",
   "name": "python",
   "nbconvert_exporter": "python",
   "pygments_lexer": "ipython3",
   "version": "3.7.11"
  }
 },
 "nbformat": 4,
 "nbformat_minor": 5
}
