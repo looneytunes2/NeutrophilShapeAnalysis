{
 "cells": [
  {
   "cell_type": "code",
   "execution_count": 1,
   "id": "1b5c529c",
   "metadata": {},
   "outputs": [],
   "source": [
    "from vtkbool.vtkBool import vtkPolyDataBooleanFilter\n",
    "import vtk\n",
    "from vtkmodules.vtkFiltersCore import (\n",
    "    vtkCleanPolyData,\n",
    "    vtkTriangleFilter\n",
    ")\n",
    "from vtkmodules.vtkFiltersGeneral import vtkBooleanOperationPolyDataFilter\n",
    "from vtkmodules.vtkFiltersSources import vtkCubeSource"
   ]
  },
  {
   "cell_type": "code",
   "execution_count": 2,
   "id": "02b4a872",
   "metadata": {},
   "outputs": [],
   "source": [
    "reader = vtk.vtkXMLPolyDataReader()\n",
    "path = 'D:/Aaron/Data/Galvanotaxis/Processed_Data/Meshes/20230727_488EGFP-CAAX_640SPY650-DNA_Galv1_cell_0_frame_1_cell_mesh.vtp'\n",
    "reader.SetFileName(path)\n",
    "reader.Update()\n",
    "# data = reader.GetOutput()\n",
    "mesh = reader.GetOutput()"
   ]
  },
  {
   "cell_type": "code",
   "execution_count": 3,
   "id": "f7c45160",
   "metadata": {},
   "outputs": [],
   "source": [
    "domain = 'x'\n",
    "diameter = 30\n",
    "    \n",
    "    \n",
    "#clean the input mesh\n",
    "tri1 = vtkTriangleFilter()\n",
    "tri1.SetInputData(mesh)\n",
    "clean1 = vtkCleanPolyData()\n",
    "clean1.SetInputConnection(tri1.GetOutputPort())\n",
    "clean1.Update()\n",
    "\n",
    "#Create a cube in the domain from the input\n",
    "cube = vtkCubeSource()\n",
    "cube.SetXLength(diameter)\n",
    "cube.SetYLength(diameter)\n",
    "cube.SetZLength(diameter)\n",
    "\n",
    "if domain == 'x':\n",
    "    cube.SetCenter(diameter/2,0,0)\n",
    "if domain == 'y':\n",
    "    cube.SetCenter(0,diameter/2,0)\n",
    "if domain == 'z':\n",
    "    cube.SetCenter(0,0,diameter/2)\n",
    "cube.Update()\n",
    "\n",
    "\n",
    "# perform an intersection operation\n",
    "boolean = vtkPolyDataBooleanFilter()\n",
    "boolean.SetInputConnection(0, clean1.GetOutputPort())\n",
    "boolean.SetInputConnection(1, cube.GetOutputPort())\n",
    "boolean.SetOperModeToIntersection()\n",
    "# boolean.Update()\n",
    "#     intersection = boolean.GetOutputPort()\n",
    "    \n",
    "# #get the volume of the intersection\n",
    "# CellMassProperties = vtk.vtkMassProperties()\n",
    "# CellMassProperties.SetInputData(boolean.GetOutput())\n",
    "    \n",
    "# CellMassProperties.GetVolume()"
   ]
  },
  {
   "cell_type": "code",
   "execution_count": null,
   "id": "3b942e6e",
   "metadata": {},
   "outputs": [],
   "source": [
    "writer = vtk.vtkPolyDataWriter()\n",
    "writer.SetInputConnection(boolean.GetOutputPort())\n",
    "writer.SetFileName('C:/Users/Aaron/Documents/Python Scripts/temp/result.vtk')\n",
    "writer.Update()"
   ]
  },
  {
   "cell_type": "code",
   "execution_count": 4,
   "id": "ae06d5ee",
   "metadata": {},
   "outputs": [],
   "source": [
    "\n",
    "writer = vtk.vtkPolyDataWriter()\n",
    "writer.SetInputConnection(clean1.GetOutputPort())\n",
    "writer.SetFileName('C:/Users/Aaron/Documents/Python Scripts/temp/clean.vtk')\n",
    "writer.Update()"
   ]
  },
  {
   "cell_type": "code",
   "execution_count": 12,
   "id": "66c06891",
   "metadata": {},
   "outputs": [
    {
     "data": {
      "text/plain": [
       "(<vtkmodules.vtkCommonExecutionModel.vtkAlgorithmOutput(0x000001C01C09B8D0) at 0x000001C01F25BC40>,\n",
       " <vtkmodules.vtkCommonExecutionModel.vtkAlgorithmOutput(0x000001C01C099950) at 0x000001C01F2B70A0>)"
      ]
     },
     "execution_count": 12,
     "metadata": {},
     "output_type": "execute_result"
    }
   ],
   "source": [
    "cube.GetOutputPort(), reader.GetOutputPort()"
   ]
  },
  {
   "cell_type": "code",
   "execution_count": null,
   "id": "15488436",
   "metadata": {},
   "outputs": [],
   "source": []
  }
 ],
 "metadata": {
  "kernelspec": {
   "display_name": "Python [conda env:hipy]",
   "language": "python",
   "name": "conda-env-hipy-py"
  },
  "language_info": {
   "codemirror_mode": {
    "name": "ipython",
    "version": 3
   },
   "file_extension": ".py",
   "mimetype": "text/x-python",
   "name": "python",
   "nbconvert_exporter": "python",
   "pygments_lexer": "ipython3",
   "version": "3.10.13"
  }
 },
 "nbformat": 4,
 "nbformat_minor": 5
}
