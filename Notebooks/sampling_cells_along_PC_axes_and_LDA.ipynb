{
 "cells": [
  {
   "cell_type": "code",
   "execution_count": 1,
   "id": "960000bd",
   "metadata": {},
   "outputs": [],
   "source": [
    "import pandas as pd\n",
    "import numpy as np\n",
    "from sklearn.decomposition import IncrementalPCA, PCA\n",
    "from sklearn.discriminant_analysis import LinearDiscriminantAnalysis\n",
    "import json\n",
    "from scipy.stats import zscore\n",
    "\n",
    "def distance_to_line(line, pts, l0=None, p0=None):\n",
    "    \"\"\"\n",
    "    line defined between l0 and line \n",
    "    points defined between p0 and pts\n",
    "    \"\"\"\n",
    "    # line origin other than (0,0,0,..)\n",
    "    if l0 is not None:\n",
    "        line = line-l0\n",
    "    # points origin other than (0,0,0,..)\n",
    "    if p0 is not None:\n",
    "        pts = pts-p0\n",
    "    dp = np.dot(pts,line)\n",
    "    pp = dp/np.linalg.norm(line)\n",
    "    pn = np.linalg.norm(pts, axis=1)\n",
    "    return np.sqrt(pn**2 - pp**2)"
   ]
  },
  {
   "cell_type": "code",
   "execution_count": 2,
   "id": "24f5619f",
   "metadata": {},
   "outputs": [],
   "source": [
    "#open file with SH coefficients\n",
    "folder = 'D:/Data/GalvanotaxisiSIM/Processed_Data/Data_and_Figs/' \n",
    "shcoeffs = pd.read_csv(folder+'Shape_Metrics_with_Digitized_PCs.csv', index_col=0)"
   ]
  },
  {
   "cell_type": "code",
   "execution_count": 3,
   "id": "b56b0a4a",
   "metadata": {},
   "outputs": [],
   "source": [
    "######### Perform PCA ################\n",
    "\n",
    "\n",
    "#specify number of PCs and number of bins\n",
    "\n",
    "nbins = 5\n",
    "bins = list(range(1,nbins+1))\n",
    "lmax = 10\n",
    "\n",
    "#get only shcoeffs\n",
    "coeff_df = shcoeffs[[x for x in shcoeffs.columns.to_list() if 'shcoeffs' in x]]\n",
    "npcs = coeff_df.shape[1]\n",
    "\n",
    "\n",
    "# Fit and transform the data\n",
    "pca = PCA(n_components=npcs)\n",
    "pca = pca.fit(coeff_df)\n",
    "matrix_of_features_transform = pca.transform(coeff_df)\n",
    "\n",
    "\n",
    "# Dataframe of transformed variable\n",
    "pc_names = [f\"PC{c}\" for c in range(1, 1 + npcs)]\n",
    "df_trans = pd.DataFrame(data=matrix_of_features_transform, columns=pc_names, index = coeff_df.index)\n",
    "\n",
    "\n",
    "# Adjust the sign of PCs so that larger cells are represent by positive values\n",
    "#need actual volume data to do this so needs to be combined with shape metrics\n",
    "df_trans['Cell_Volume'] = shcoeffs.Cell_Volume\n",
    "for pcid, pc_name in enumerate(pc_names):\n",
    "    pearson = np.corrcoef(df_trans.Cell_Volume.values, df_trans[pc_name].values)\n",
    "    if pearson[0, 1] < 0:\n",
    "        df_trans[pc_name] *= -1\n",
    "        pca.components_[pcid] *= -1\n",
    "        \n",
    "df_trans = df_trans.drop(columns = 'Cell_Volume')"
   ]
  },
  {
   "cell_type": "code",
   "execution_count": 100,
   "id": "cf637a43",
   "metadata": {},
   "outputs": [],
   "source": [
    "###################### find cells at specific PC percentiles that are the closest to average in all other PCs ##########\n",
    "#number of cells per percentile\n",
    "cpp = 3\n",
    "#percentiles to look at\n",
    "percentiles = [1, 16, 50, 84, 99]\n",
    "#range around percentile to look for cells\n",
    "per_win = 1\n",
    "#make dict to fill\n",
    "cell_file = {}\n",
    "\n",
    "for p in pc_names[0:3]:\n",
    "    cell_file[p] = {}\n",
    "    for per in percentiles:\n",
    "        #get PC value associated with given percentile\n",
    "        plow = np.percentile(df_trans[p].values,per-per_win)\n",
    "        phigh = np.percentile(df_trans[p].values,per+per_win)\n",
    "        #get cells near that percentile for that particular PC\n",
    "        cells_in = df_trans[df_trans[p].between(plow, phigh, inclusive='both')].index\n",
    "        distances = distance_to_line(line = pca.components_[pc_names.index(p)],\n",
    "                        pts = df_trans.loc[cells_in].to_numpy())\n",
    "        cell_file[p][per] = pd.Series(distances, index = cells_in).sort_values().iloc[:cpp].index.to_list()\n",
    "\n",
    "#write dict to file      \n",
    "with open(folder+'VIEWs_index.txt', 'w') as convert_file:\n",
    "     convert_file.write(json.dumps(cell_file))"
   ]
  },
  {
   "cell_type": "code",
   "execution_count": 25,
   "id": "184b6ac3",
   "metadata": {},
   "outputs": [],
   "source": [
    "############## find linear discriminate axis for a particular factor ##################\n",
    "\n",
    "#how many PCs to use\n",
    "ldpcs = 10\n",
    "#use first 10 PCs\n",
    "ldd = df_trans.iloc[:,:ldpcs]\n",
    "lda = LinearDiscriminantAnalysis()\n",
    "lda = lda.fit(ldd, shcoeffs.Migration_Mode)\n",
    "lddt = lda.transform(ldd)\n"
   ]
  },
  {
   "cell_type": "code",
   "execution_count": 26,
   "id": "2a9df42e",
   "metadata": {},
   "outputs": [
    {
     "data": {
      "text/plain": [
       "(array([ 1.,  4.,  9., 12., 16., 15., 23., 14., 16.,  6.]),\n",
       " array([-2.46656094, -1.99707597, -1.52759101, -1.05810604, -0.58862107,\n",
       "        -0.1191361 ,  0.35034887,  0.81983383,  1.2893188 ,  1.75880377,\n",
       "         2.22828874]),\n",
       " <a list of 10 Patch objects>)"
      ]
     },
     "execution_count": 26,
     "metadata": {},
     "output_type": "execute_result"
    },
    {
     "data": {
      "image/png": "[encoded data removed]",
      "text/plain": [
       "<Figure size 432x288 with 1 Axes>"
      ]
     },
     "metadata": {
      "needs_background": "light"
     },
     "output_type": "display_data"
    }
   ],
   "source": [
    "############ confirming separation of categories along LDA ###############\n",
    "import matplotlib.pyplot as plt\n",
    "lda_data = pd.Series([x[0] for x in lddt], index = shcoeffs.Migration_Mode)\n",
    "plt.hist(lda_data[lda_data.index == 'Galvanotaxis'])\n",
    "plt.hist(lda_data[lda_data.index == 'Galvanotaxis_Random'])"
   ]
  },
  {
   "cell_type": "code",
   "execution_count": 31,
   "id": "dbc2bd63",
   "metadata": {},
   "outputs": [
    {
     "data": {
      "text/plain": [
       "{1: ['20230131_488actinGFP_646CAAXHalotag_2mA5_cell_5_frame_8',\n",
       "  '20230126_488actinGFP_646CAAXHalotag_2mA1_cell_1_frame_9',\n",
       "  '20230126_488actinGFP_646CAAXHalotag_2mA_30C2_cell_7_frame_5'],\n",
       " 16: ['20230201_488actinGFP_646CAAXHalotag_2mA4_cell_3_frame_13',\n",
       "  '20230131_488actinGFP_646CAAXHalotag_2mA3_cell_0_frame_13',\n",
       "  '20230126_488actinGFP_646CAAXHalotag_2mA_30C1_cell_26_frame_12'],\n",
       " 50: ['20230126_488actinGFP_646CAAXHalotag_2mA4_cell_9_frame_9',\n",
       "  '20230131_488actinGFP_646CAAXHalotag_2mA5_cell_5_frame_7',\n",
       "  '20230201_488actinGFP_646CAAXHalotag_2mA1_cell_1_frame_4'],\n",
       " 84: ['20230126_488actinGFP_646CAAXHalotag_2mA4_cell_9_frame_5',\n",
       "  '20230126_488actinGFP_646CAAXHalotag_2mA5_cell_0_frame_0',\n",
       "  '20230201_488actinGFP_646CAAXHalotag_2mA3_cell_7_frame_15'],\n",
       " 99: ['20230126_488actinGFP_646CAAXHalotag_2mA_30C3_cell_3_frame_2',\n",
       "  '20230126_488actinGFP_646CAAXHalotag_2mA_30C1_cell_9_frame_13',\n",
       "  '20230201_488actinGFP_646CAAXHalotag_2mA4_cell_8_frame_15']}"
      ]
     },
     "execution_count": 31,
     "metadata": {},
     "output_type": "execute_result"
    }
   ],
   "source": [
    "###################### find cells at specific LDA percentiles that are the closest to average in all other PCs ##########\n",
    "\n",
    "#construct dataframe using LD data\n",
    "lda_data = pd.Series([x[0] for x in lddt], index = shcoeffs.index)\n",
    "\n",
    "#number of cells per percentile\n",
    "cpp = 3\n",
    "#percentiles to look at\n",
    "percentiles = [1, 16, 50, 84, 99]\n",
    "#range around percentile to look for cells\n",
    "per_win = 1\n",
    "#make dict to fill\n",
    "cell_file = {}\n",
    "\n",
    "for per in percentiles:\n",
    "    #get PC value associated with given percentile\n",
    "    plow = np.percentile(lda_data.values,per-per_win)\n",
    "    phigh = np.percentile(lda_data.values,per+per_win)\n",
    "    #get cells near that percentile for that particular PC\n",
    "    cells_in = lda_data[lda_data.between(plow, phigh, inclusive='both')].index\n",
    "    distances = distance_to_line(line = lda.coef_[0],\n",
    "                    pts = df_trans.loc[cells_in].iloc[:,:ldpcs].to_numpy())\n",
    "    cell_file[per] = pd.Series(distances, index = cells_in).sort_values().iloc[:cpp].index.to_list()\n",
    "\n",
    "#write dict to file      \n",
    "with open(folder+'LDA_VIEWs_index.txt', 'w') as convert_file:\n",
    "     convert_file.write(json.dumps(cell_file))\n"
   ]
  },
  {
   "cell_type": "code",
   "execution_count": null,
   "id": "718bea16",
   "metadata": {},
   "outputs": [],
   "source": []
  }
 ],
 "metadata": {
  "kernelspec": {
   "display_name": "Python [conda env:abhishape] *",
   "language": "python",
   "name": "conda-env-abhishape-py"
  },
  "language_info": {
   "codemirror_mode": {
    "name": "ipython",
    "version": 3
   },
   "file_extension": ".py",
   "mimetype": "text/x-python",
   "name": "python",
   "nbconvert_exporter": "python",
   "pygments_lexer": "ipython3",
   "version": "3.7.11"
  }
 },
 "nbformat": 4,
 "nbformat_minor": 5
}
